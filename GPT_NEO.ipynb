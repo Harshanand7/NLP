{
  "nbformat": 4,
  "nbformat_minor": 0,
  "metadata": {
    "colab": {
      "provenance": [],
      "authorship_tag": "ABX9TyPw3j00ya9c+9u7/6bEz7BP",
      "include_colab_link": true
    },
    "kernelspec": {
      "name": "python3",
      "display_name": "Python 3"
    },
    "language_info": {
      "name": "python"
    }
  },
  "cells": [
    {
      "cell_type": "markdown",
      "metadata": {
        "id": "view-in-github",
        "colab_type": "text"
      },
      "source": [
        "<a href=\"https://colab.research.google.com/github/Harshanand7/NLP/blob/main/GPT_NEO.ipynb\" target=\"_parent\"><img src=\"https://colab.research.google.com/assets/colab-badge.svg\" alt=\"Open In Colab\"/></a>"
      ]
    },
    {
      "cell_type": "code",
      "execution_count": null,
      "metadata": {
        "id": "m5npXATggkCD"
      },
      "outputs": [],
      "source": [
        "!pip install transformers"
      ]
    },
    {
      "cell_type": "code",
      "source": [
        "# Use a pipeline as a high-level helper\n",
        "from transformers import pipeline\n",
        "\n",
        "pipe = pipeline(\"text-classification\", model=\"niting3c/llama-2-7b-hf-zero-shot-prompt\")"
      ],
      "metadata": {
        "id": "jI_IpCh_gwsb"
      },
      "execution_count": null,
      "outputs": []
    },
    {
      "cell_type": "code",
      "source": [
        "from datasets import load_dataset\n",
        "\n",
        "dataset = load_dataset(\"christophsonntag/OLID\")"
      ],
      "metadata": {
        "id": "eucxhnrzg18U"
      },
      "execution_count": null,
      "outputs": []
    },
    {
      "cell_type": "code",
      "source": [
        "df = dataset[\"train\"].to_pandas()\n",
        "df=df[['cleaned_tweet','subtask_a']]\n",
        "df.head()"
      ],
      "metadata": {
        "id": "ptNGq1REg2zI"
      },
      "execution_count": null,
      "outputs": []
    },
    {
      "cell_type": "code",
      "source": [
        "tokenizer = AutoTokenizer.from_pretrained(\"EleutherAI/gpt-neo-1.3B\")\n",
        "model = AutoModelForCausalLM.from_pretrained(\"EleutherAI/gpt-neo-1.3B\")\n",
        "\n",
        "\n",
        "def classify_tweet(tweet):\n",
        "    prompt = f\"\"\"\n",
        "    A message can be classified as one of the following categories: Adversely Offensive, Mildly Offensive, Non Offensive.\n",
        "\n",
        "    Based on these categories, classify this message:\n",
        "    {tweet}\n",
        "    \"\"\"\n",
        "    input_ids = tokenizer(prompt, return_tensors=\"pt\").input_ids\n",
        "    outputs = model.generate(input_ids, max_new_tokens=50)\n",
        "    classification = tokenizer.decode(outputs[0], skip_special_tokens=True)\n",
        "\n",
        "    classification_result = classification.split(prompt)[-1].strip()\n",
        "    return classification_result\n",
        "\n",
        "\n",
        "df['classification'] = df['cleaned_tweet'].apply(classify_tweet)\n",
        "\n",
        "\n",
        "df.to_csv('classified_tweets.csv', index=False)"
      ],
      "metadata": {
        "id": "nzlL67zBg21S"
      },
      "execution_count": null,
      "outputs": []
    },
    {
      "cell_type": "code",
      "source": [],
      "metadata": {
        "id": "j_yWGQA8g23I"
      },
      "execution_count": null,
      "outputs": []
    },
    {
      "cell_type": "code",
      "source": [],
      "metadata": {
        "id": "74cF9kq2g25B"
      },
      "execution_count": null,
      "outputs": []
    },
    {
      "cell_type": "code",
      "source": [],
      "metadata": {
        "id": "-s9pZAsMg28X"
      },
      "execution_count": null,
      "outputs": []
    }
  ]
}